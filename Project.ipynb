{
  "nbformat": 4,
  "nbformat_minor": 0,
  "metadata": {
    "colab": {
      "name": "Project.ipynb",
      "version": "0.3.2",
      "provenance": [],
      "collapsed_sections": [],
      "toc_visible": true,
      "include_colab_link": true
    },
    "kernelspec": {
      "display_name": "Python 3",
      "language": "python",
      "name": "python3"
    },
    "accelerator": "GPU"
  },
  "cells": [
    {
      "cell_type": "markdown",
      "metadata": {
        "id": "view-in-github",
        "colab_type": "text"
      },
      "source": [
        "[View in Colaboratory](https://colab.research.google.com/github/bartimaeus12/PS-projecct/blob/master/Project.ipynb)"
      ]
    },
    {
      "metadata": {
        "id": "r4t_ydvwT5VD",
        "colab_type": "code",
        "colab": {}
      },
      "cell_type": "code",
      "source": [
        "import pandas as pd\n",
        "import numpy as np\n",
        "from numpy import genfromtxt\n"
      ],
      "execution_count": 0,
      "outputs": []
    },
    {
      "metadata": {
        "id": "eSf10diTT5VU",
        "colab_type": "code",
        "colab": {}
      },
      "cell_type": "code",
      "source": [
        "d=\"Downloads/dictionaries\"\n",
        "pos = genfromtxt(\"Downloads/dictionaries/pos_tag_embeddings.csv\", delimiter=',',dtype=str)"
      ],
      "execution_count": 0,
      "outputs": []
    },
    {
      "metadata": {
        "id": "_6yjbDKyT5Vj",
        "colab_type": "code",
        "colab": {}
      },
      "cell_type": "code",
      "source": [
        "embeddings=genfromtxt(\"Downloads/dictionaries/word_embeddings.csv\",delimiter=';',dtype=float)"
      ],
      "execution_count": 0,
      "outputs": []
    },
    {
      "metadata": {
        "id": "VDTST7E1T5Vz",
        "colab_type": "code",
        "colab": {},
        "outputId": "bb01909b-e71c-45ca-cd6e-bde3082990aa"
      },
      "cell_type": "code",
      "source": [
        "embeddings[0]"
      ],
      "execution_count": 0,
      "outputs": [
        {
          "output_type": "execute_result",
          "data": {
            "text/plain": [
              "array([ 0.        , -0.111904  ,  0.285903  ,  0.219946  , -0.0837788 ,\n",
              "        0.140779  ,  0.0324086 ,  0.20169   ,  0.0359397 ,  0.265721  ,\n",
              "        0.269051  , -0.265503  , -0.178418  , -0.0633025 , -0.0939747 ,\n",
              "       -0.0431164 , -0.21368   , -0.13077   , -0.0481102 ,  0.00956713,\n",
              "        0.0653633 , -0.15177   , -0.197332  , -0.34573   , -0.464093  ,\n",
              "        0.0324552 ,  0.133923  ,  0.0601817 ,  0.142494  , -0.0230066 ,\n",
              "        0.109964  , -0.252121  , -0.236221  ,  0.228354  , -0.224431  ,\n",
              "        0.236937  ,  0.178717  , -0.146546  , -0.212994  , -0.200154  ,\n",
              "        0.240057  , -0.087808  , -0.0432268 ,  0.4916    ,  0.364289  ,\n",
              "        0.0659602 , -0.156636  , -0.161463  , -0.178294  ,  0.0685208 ,\n",
              "        0.226641  , -0.0472321 ,  0.470264  , -0.206382  ,  0.157258  ,\n",
              "       -0.063222  , -0.177934  , -0.114024  , -0.0860238 ,  0.131781  ,\n",
              "        0.146436  ,  0.408751  , -0.0470895 , -0.0986647 ,  0.0220843 ,\n",
              "       -0.194119  , -0.103375  ,  0.0658685 ,  0.0191754 ,  0.0150754 ,\n",
              "       -0.0236207 , -0.0736226 , -0.22729   ,  0.181892  ,  0.13944   ,\n",
              "        0.0638348 ,  0.157248  ,  0.0463376 ,  0.153583  , -0.0106394 ,\n",
              "       -0.337642  ,  0.075163  ,  0.0937497 , -0.0903123 ,  0.037122  ,\n",
              "        0.0317221 ,  0.405722  , -0.0926555 ,  0.0649856 ,  0.197423  ,\n",
              "       -0.340282  ,  0.0162096 , -0.292501  ,  0.0934524 , -0.511984  ,\n",
              "       -0.438888  ,  0.218996  , -0.319211  , -0.0426258 ,  0.1684    ,\n",
              "       -0.197068  ,  0.285866  ,  0.258786  ,  0.168642  , -0.0467106 ,\n",
              "       -0.202463  , -0.336968  , -0.125597  ,  0.2386    , -0.302213  ,\n",
              "        0.0728473 ,  0.143982  , -0.386686  , -0.0136358 ,  0.0585655 ,\n",
              "        0.0937268 , -0.0458541 , -0.280133  , -0.163633  , -0.0279062 ,\n",
              "        0.264101  ,  0.425787  , -0.0647907 , -0.125749  ,  0.0453936 ,\n",
              "       -0.235433  , -0.38768   , -0.0296432 ,  0.415339  , -0.222986  ,\n",
              "       -0.442273  ,  0.312869  ,  0.131983  ,  0.197861  ,  0.229283  ,\n",
              "        0.0507547 ,  0.159462  ,  0.133986  , -0.0629191 , -0.158599  ,\n",
              "       -0.341314  ,  0.295063  ,  0.0155684 , -0.426522  ,  0.0241511 ,\n",
              "       -0.110857  , -0.124369  , -0.092903  , -0.319484  ,  0.0352917 ,\n",
              "       -0.33453   , -0.0593787 , -0.083705  ,  0.3357    , -0.232438  ,\n",
              "       -0.247708  ,  0.344504  ,  0.0982722 , -0.16671   ,  0.159628  ,\n",
              "        0.257741  , -0.0490982 ,  0.113852  , -0.0329953 ,  0.583395  ,\n",
              "       -0.0785879 ,  0.184007  , -0.186697  , -0.521095  ,  0.0480398 ,\n",
              "       -0.37672   , -0.00099625,  0.31445   , -0.213663  ,  0.306192  ,\n",
              "        0.192572  ,  0.214712  ,  0.189851  ,  0.260891  ,  0.310229  ,\n",
              "        0.303341  ,  0.370702  , -0.0961622 ,  0.230429  , -0.0125225 ,\n",
              "       -0.157581  , -0.0610047 , -0.165416  ,  0.00153894,  0.124624  ,\n",
              "        0.156446  ,  0.0650827 , -0.277443  , -0.406054  ,  0.307624  ,\n",
              "        0.109129  ,  0.497347  ,  0.0759006 , -0.203016  ,  0.12221   ,\n",
              "        0.155192  ])"
            ]
          },
          "metadata": {
            "tags": []
          },
          "execution_count": 3
        }
      ]
    },
    {
      "metadata": {
        "id": "w48clMpfT5WA",
        "colab_type": "code",
        "colab": {}
      },
      "cell_type": "code",
      "source": [
        "import pickle\n",
        "pickle.dump(embeddings,open(\"embd.pickle\",'wb'))"
      ],
      "execution_count": 0,
      "outputs": []
    },
    {
      "metadata": {
        "id": "1-vFQe9gT5WG",
        "colab_type": "code",
        "colab": {}
      },
      "cell_type": "code",
      "source": [
        "pickle.dump(pos,open(\"pos.pickle\",'wb'))"
      ],
      "execution_count": 0,
      "outputs": []
    },
    {
      "metadata": {
        "id": "YetHXjfbT5WN",
        "colab_type": "code",
        "colab": {
          "base_uri": "https://localhost:8080/",
          "height": 17
        },
        "outputId": "75bceaa3-33dd-4206-960d-5e35ef76af0f"
      },
      "cell_type": "code",
      "source": [
        "import pickle\n",
        "embd=pickle.load(open(\"drive/embd.pickle\",\"rb\"))"
      ],
      "execution_count": 4,
      "outputs": []
    },
    {
      "metadata": {
        "id": "DnEdaHpVWOWS",
        "colab_type": "code",
        "colab": {
          "base_uri": "https://localhost:8080/",
          "height": 106
        },
        "outputId": "6b1fd844-faaa-45b6-fa9c-45685cab781a"
      },
      "cell_type": "code",
      "source": [
        "    !apt-get install -y -qq software-properties-common python-software-properties module-init-tools\n",
        "    !add-apt-repository -y ppa:alessandro-strada/ppa 2>&1 > /dev/null\n",
        "    !apt-get update -qq 2>&1 > /dev/null\n",
        "    !apt-get -y install -qq google-drive-ocamlfuse fuse\n",
        "    from google.colab import auth\n",
        "    auth.authenticate_user()\n",
        "    from oauth2client.client import GoogleCredentials\n",
        "    creds = GoogleCredentials.get_application_default()\n",
        "    import getpass\n",
        "    !google-drive-ocamlfuse -headless -id={creds.client_id} -secret={creds.client_secret} < /dev/null 2>&1 | grep URL\n",
        "    vcode = getpass.getpass()\n",
        "    !echo {vcode} | google-drive-ocamlfuse -headless -id={creds.client_id} -secret={creds.client_secret}\n"
      ],
      "execution_count": 2,
      "outputs": [
        {
          "output_type": "stream",
          "text": [
            "Please, open the following URL in a web browser: https://accounts.google.com/o/oauth2/auth?client_id=32555940559.apps.googleusercontent.com&redirect_uri=urn%3Aietf%3Awg%3Aoauth%3A2.0%3Aoob&scope=https%3A%2F%2Fwww.googleapis.com%2Fauth%2Fdrive&response_type=code&access_type=offline&approval_prompt=force\r\n",
            "··········\n",
            "Please, open the following URL in a web browser: https://accounts.google.com/o/oauth2/auth?client_id=32555940559.apps.googleusercontent.com&redirect_uri=urn%3Aietf%3Awg%3Aoauth%3A2.0%3Aoob&scope=https%3A%2F%2Fwww.googleapis.com%2Fauth%2Fdrive&response_type=code&access_type=offline&approval_prompt=force\n",
            "Please enter the verification code: Access token retrieved correctly.\n"
          ],
          "name": "stdout"
        }
      ]
    },
    {
      "metadata": {
        "id": "3dPksKhtYhzl",
        "colab_type": "code",
        "colab": {
          "base_uri": "https://localhost:8080/",
          "height": 0
        },
        "outputId": "44695978-499d-44c8-b1e7-85e8fe3871d1"
      },
      "cell_type": "code",
      "source": [
        "!mkdir -p drive\n",
        "!google-drive-ocamlfuse drive"
      ],
      "execution_count": 3,
      "outputs": []
    },
    {
      "metadata": {
        "id": "m__fQvfSY9yN",
        "colab_type": "code",
        "colab": {
          "base_uri": "https://localhost:8080/",
          "height": 243
        },
        "outputId": "24d5950c-bf74-403c-a38d-e0ff4c732d41"
      },
      "cell_type": "code",
      "source": [
        "embd"
      ],
      "execution_count": 5,
      "outputs": [
        {
          "output_type": "execute_result",
          "data": {
            "text/plain": [
              "array([[ 0.00000e+00, -1.11904e-01,  2.85903e-01, ..., -2.03016e-01,\n",
              "         1.22210e-01,  1.55192e-01],\n",
              "       [ 1.00000e+00, -1.40914e-01, -1.42970e-01, ..., -9.70326e-02,\n",
              "         1.41042e-01,  1.61216e-01],\n",
              "       [ 2.00000e+00, -1.73761e-01,  1.31713e-01, ..., -1.97006e-01,\n",
              "        -3.69123e-02, -1.23440e-03],\n",
              "       ...,\n",
              "       [ 5.14366e+05,  4.28347e-03,  1.28650e-01, ...,  2.17874e-01,\n",
              "         3.08095e-02,  2.32262e-01],\n",
              "       [ 5.14367e+05, -8.11439e-02,  1.20463e-01, ..., -2.03922e-01,\n",
              "         1.24415e-01, -1.55436e-01],\n",
              "       [ 5.14368e+05, -1.31189e-01,  4.09786e-02, ...,  2.41486e-03,\n",
              "        -1.28999e-01, -1.36243e-01]])"
            ]
          },
          "metadata": {
            "tags": []
          },
          "execution_count": 5
        }
      ]
    },
    {
      "metadata": {
        "id": "UGKL-TjeZvQE",
        "colab_type": "code",
        "colab": {
          "base_uri": "https://localhost:8080/",
          "height": 34
        },
        "outputId": "5ee239fb-c4d8-4a86-f683-7ab80cff0f8f"
      },
      "cell_type": "code",
      "source": [
        "len(embd)"
      ],
      "execution_count": 7,
      "outputs": [
        {
          "output_type": "execute_result",
          "data": {
            "text/plain": [
              "514369"
            ]
          },
          "metadata": {
            "tags": []
          },
          "execution_count": 7
        }
      ]
    },
    {
      "metadata": {
        "id": "VaYjpSOTZ3aj",
        "colab_type": "code",
        "colab": {}
      },
      "cell_type": "code",
      "source": [
        ""
      ],
      "execution_count": 0,
      "outputs": []
    }
  ]
}